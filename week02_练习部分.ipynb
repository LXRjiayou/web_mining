{
 "cells": [
  {
   "cell_type": "code",
   "execution_count": 2,
   "metadata": {},
   "outputs": [
    {
     "data": {
      "text/plain": [
       "'\\ufeff<!DOCTYPE html PUBLIC \"-//W3C//DTD XHTML 1.0 Transitional//EN\" \"http://www.w3.org/TR/xhtml1/DTD/xhtml1-transitional.dtd\">\\r\\n<html>\\r\\n<head>\\r\\n<meta name=\"renderer\" content=\"webkit\">\\r\\n<meta http-equiv=\"x-ua-compatible\" content=\"IE=edge\" >\\r\\n<meta http-equiv=\"Content-Type\" content=\"text/html; charset=utf-8\" />\\r\\n<title>-中山大学南方学院 </title>\\r\\n<meta name=\"keywords\" content=\"\">\\r\\n<meta name=\"description\" content=\"\">\\r\\n\\t\\n<link rel=\"stylesheet\" type=\"text/css\" href=\"/Public/Home/css/swiper-3.3.1.min.css\"/>\\n\\t\\t<link href=\"/Public/Home/css/lin.css\" rel=\"stylesheet\" type=\"text/css\" />\\n\\n\\t\\t<script src=\"/Public/Home/js/jquery-1.11.3.min.js\"></script>\\n\\t\\t<script src=\"/Public/Home/js/jquery-1.11.1.js\"></script>\\n\\t\\t<script src=\"/Public/Home/js/jquery.easie-min.js\" type=\"text/javascript\"></script>\\n\\t\\t<script src=\"/Public/Home/js/swiper.min.js\" type=\"text/javascript\"></script>\\n\\t\\t<script src=\"/Public/Home/js/lin.js\"></script>\\n\\t\\t\\n\\t\\t\\n<link href=\"/Public/Home/page.css\" rel=\"stylesheet\" type=\"text/css\" />\\n<link href=\"/Public/favicon.ico\" rel=\"Shortcut Icon\">\\n<link href=\"/Public/favicon.ico\" rel=\"Bookmark\">\\n\\r\\n\\t</head>\\r\\n<body>\\r\\n\\ufeff<!--头部-->\\n\\t\\t<div class=\"lin-header \">\\n\\t\\t\\t<div class=\"lin-head clearfix\">\\n\\t\\t\\t\\t<h1 class=\"lin-topl\"><a href=\"/index.php\" target=\"_blank\" title=\"中山大学南方学院\"><img src=\"/Public/Home/images/logo.png\"/></a></h1>\\n\\t\\t\\t\\t<div class=\"lin-topr\">\\n\\t\\t\\t\\t\\t<div class=\"lin-youxiang\">\\n\\t\\t\\t\\t\\t\\t<a href=\"http://oa.nfu.edu.cn/\" target=\"_blank\">办公系统</a>\\n\\t\\t\\t\\t\\t\\t<a href=\"http://en.nfu.edu.cn/\">English Version</a>\\n\\t\\t\\t\\t\\t\\t<!-- <a href=\"https://mail.nfu.edu.cn/\" target=\"_blank\">邮箱登录</a>\\n\\t\\t\\t\\t\\t\\t<a href=\"mailto:nfcsysuyz@126.com\" target=\"_blank\" title=\"nfcsysuyz@126.com\" >院长信箱</a> -->\\n\\t\\t\\t\\t\\t</div>\\n\\t\\t\\t\\t\\t<div class=\"lin-ser lin-serhide\">\\n\\t\\t\\t\\t\\t\\t<div class=\"serbox\">\\n\\t\\t\\t\\t\\t\\t<form action=\"/index.php/home/article/search.html\" method=\"get\" id=\"search_form\">\\n\\t\\t\\t\\t\\t\\t\\t<input type=\"text\" name=\"keyword\" id=\"keyword\" placeholder=\"搜索\" />\\n\\t\\t\\t\\t\\t\\t\\t<a href=\"javascript:;\" id=\"search_btn\" ></a>\\n\\t\\t\\t\\t\\t\\t</form>\\t\\n\\t\\t\\t\\t\\t\\t<script type=\"text/javascript\">\\n\\t\\t\\t\\t\\t\\t\\t$(\"#search_btn\").click(function(){\\n\\t\\t\\t\\t\\t\\t\\t\\tvar keyword=$(\"#keyword\").val();\\n\\t\\t\\t\\t\\t\\t\\t\\tif(keyword==\\'\\'){\\n\\t\\t\\t\\t\\t\\t\\t\\t\\talert(\\'* 请输入搜索关键词 !\\');\\n\\t\\t\\t\\t\\t\\t\\t\\t\\t$(\"#keyword\").focus();\\n\\t\\t\\t\\t\\t\\t\\t\\t\\treturn false;\\n\\t\\t\\t\\t\\t\\t\\t\\t}else{\\n\\t\\t\\t\\t\\t\\t\\t\\t\\t$(\"#search_form\").submit();\\n\\t\\t\\t\\t\\t\\t\\t\\t}\\n\\t\\t\\t\\t\\t\\t\\t})\\n\\t\\t\\t\\t\\t\\t</script>\\n\\t\\t\\t\\t\\t\\t</div>\\n\\t\\t\\t\\t\\t\\t<!-- <span class=\"ser-biaoti\"><a href=\\'\\' style=\"color:#fff;\">English Version</a></span> -->\\n\\t\\t\\t\\t\\t</div>\\n\\t\\t\\t\\t</div>\\n\\t\\t\\t</div>\\n\\t\\t</div>\\n\\t\\t<!-- end 头部-->\\n\\t\\t<!--导航条-->\\n\\t\\t<div class=\"lin-navbar\">\\n\\t\\t\\t<p class=\"navnav\">\\n\\t\\t\\t\\t<span></span>\\n\\t\\t\\t\\t<span></span>\\n\\t\\t\\t\\t<span></span>\\n\\t\\t\\t</p>\\n\\t\\t\\t<ul class=\"lin-nav clearfix\">\\n\\t\\t\\t\\t<li  class=\"lin-navli\"><a href=\"/index.php\">首页</a>\\n\\t\\t\\t\\t</li>\\n\\t\\t\\t\\t<li class=\"lin-navli\"><a href=\"/index.php/home/article/index/cid/29.html\"  target=\"_blank\">学校概况</a>\\n\\n\\t\\t\\t\\t\\t<!-- <i f condition=\"!empty($nav[\\'son_list\\']) and $nav[id] !=3 and  $nav[id] !=4 and $nav[id] !=5 and $nav[id] !=89\"> -->\\n\\t\\t\\t\\t\\t<div class=\"lin-navdiv\">\\n\\t\\t\\t\\t\\t\\t<div class=\"sonnav-bg\">\\n\\t\\t\\t\\t\\t\\t\\t<ul class=\"nav-conul clearfix\">\\n\\t\\t\\t\\t\\t\\t\\t\\t<li><a href=\"/index.php/home/article/index/cid/29.html\" target=\"_self\">学校简介</a></li><li><a href=\"/index.php/home/article/index/cid/30.html\" target=\"_blank\">现任领导</a></li><li><a href=\"/index.php/home/article/index/cid/135.html\" target=\"_self\">校徽  校训  校歌</a></li><li><a href=\"/index.php/home/article/index/cid/34.html\" target=\"_blank\">南方大事记</a></li><li><a href=\"/index.php/home/article/index/cid/104.html\" target=\"_self\">学校校历</a></li>\\t\\t\\t\\t\\t\\t\\t</ul>\\n\\t\\t\\t\\t\\t\\t</div>\\n\\t\\t\\t\\t\\t</div>\\t\\t\\t\\t</li><li class=\"lin-navli\"><a href=\"/index.php/home/article/index/cid/2.html\"  target=\"_self\">党建之窗</a>\\n\\n\\t\\t\\t\\t\\t<!-- <i f condition=\"!empty($nav[\\'son_list\\']) and $nav[id] !=3 and  $nav[id] !=4 and $nav[id] !=5 and $nav[id] !=89\"> -->\\n\\t\\t\\t\\t\\t\\t\\t\\t\\t</li><li class=\"lin-navli\"><a href=\"/index.php/home/article/index/cid/61.html\"  target=\"_blank\">机构设置</a>\\n\\n\\t\\t\\t\\t\\t<!-- <i f condition=\"!empty($nav[\\'son_list\\']) and $nav[id] !=3 and  $nav[id] !=4 and $nav[id] !=5 and $nav[id] !=89\"> -->\\n\\t\\t\\t\\t\\t<div class=\"lin-navdiv\">\\n\\t\\t\\t\\t\\t\\t<div class=\"sonnav-bg\">\\n\\t\\t\\t\\t\\t\\t\\t<ul class=\"nav-conul clearfix\">\\n\\t\\t\\t\\t\\t\\t\\t\\t<li><a href=\"/index.php/home/article/index/cid/61.html\" target=\"_self\">院系设置</a></li><li><a href=\"/index.php/home/article/index/cid/36.html\" target=\"_self\">管理机构</a></li><li><a href=\"/index.php/home/article/index/cid/165.html\" target=\"_self\">常设委员会</a></li>\\t\\t\\t\\t\\t\\t\\t</ul>\\n\\t\\t\\t\\t\\t\\t</div>\\n\\t\\t\\t\\t\\t</div>\\t\\t\\t\\t</li><li class=\"lin-navli\"><a href=\"/index.php/home/article/index/cid/31.html\"  target=\"_blank\">人才培养</a>\\n\\n\\t\\t\\t\\t\\t<!-- <i f condition=\"!empty($nav[\\'son_list\\']) and $nav[id] !=3 and  $nav[id] !=4 and $nav[id] !=5 and $nav[id] !=89\"> -->\\n\\t\\t\\t\\t\\t<div class=\"lin-navdiv\">\\n\\t\\t\\t\\t\\t\\t<div class=\"sonnav-bg\">\\n\\t\\t\\t\\t\\t\\t\\t<ul class=\"nav-conul clearfix\">\\n\\t\\t\\t\\t\\t\\t\\t\\t<li><a href=\"/index.php/home/article/index/cid/31.html\" target=\"_blank\">名师介绍</a></li><li><a href=\"/index.php/home/article/index/cid/163.html\" target=\"_self\">本科教育</a></li><li><a href=\"/index.php/home/article/index/cid/164.html\" target=\"_self\">继续教育</a></li>\\t\\t\\t\\t\\t\\t\\t</ul>\\n\\t\\t\\t\\t\\t\\t</div>\\n\\t\\t\\t\\t\\t</div>\\t\\t\\t\\t</li><li class=\"lin-navli\"><a href=\"/index.php/home/article/index/cid/106.html\"  target=\"_blank\">教学科研</a>\\n\\n\\t\\t\\t\\t\\t<!-- <i f condition=\"!empty($nav[\\'son_list\\']) and $nav[id] !=3 and  $nav[id] !=4 and $nav[id] !=5 and $nav[id] !=89\"> -->\\n\\t\\t\\t\\t\\t<div class=\"lin-navdiv\">\\n\\t\\t\\t\\t\\t\\t<div class=\"sonnav-bg\">\\n\\t\\t\\t\\t\\t\\t\\t<ul class=\"nav-conul clearfix\">\\n\\t\\t\\t\\t\\t\\t\\t\\t<li><a href=\"/index.php/home/article/index/cid/106.html\" target=\"_blank\">教务与科研部</a></li><li><a href=\"/index.php/home/article/index/cid/127.html\" target=\"_blank\">科研信息与动态</a></li><li><a href=\"/index.php/home/article/index/cid/107.html\" target=\"_blank\">科研机构</a></li>\\t\\t\\t\\t\\t\\t\\t</ul>\\n\\t\\t\\t\\t\\t\\t</div>\\n\\t\\t\\t\\t\\t</div>\\t\\t\\t\\t</li><li class=\"lin-navli\"><a href=\"/index.php/home/article/index/cid/49.html\"  target=\"_blank\">招生就业</a>\\n\\n\\t\\t\\t\\t\\t<!-- <i f condition=\"!empty($nav[\\'son_list\\']) and $nav[id] !=3 and  $nav[id] !=4 and $nav[id] !=5 and $nav[id] !=89\"> -->\\n\\t\\t\\t\\t\\t<div class=\"lin-navdiv\">\\n\\t\\t\\t\\t\\t\\t<div class=\"sonnav-bg\">\\n\\t\\t\\t\\t\\t\\t\\t<ul class=\"nav-conul clearfix\">\\n\\t\\t\\t\\t\\t\\t\\t\\t<li><a href=\"/index.php/home/article/index/cid/49.html\" target=\"_blank\">本科招生</a></li><li><a href=\"/index.php/home/article/index/cid/129.html\" target=\"_self\">继续教育</a></li><li><a href=\"/index.php/home/article/index/cid/50.html\" target=\"_blank\">就业服务</a></li>\\t\\t\\t\\t\\t\\t\\t</ul>\\n\\t\\t\\t\\t\\t\\t</div>\\n\\t\\t\\t\\t\\t</div>\\t\\t\\t\\t</li><li class=\"lin-navli\"><a href=\"/index.php/home/article/index/cid/79.html\"  target=\"_blank\">图书馆</a>\\n\\n\\t\\t\\t\\t\\t<!-- <i f condition=\"!empty($nav[\\'son_list\\']) and $nav[id] !=3 and  $nav[id] !=4 and $nav[id] !=5 and $nav[id] !=89\"> -->\\n\\t\\t\\t\\t\\t<div class=\"lin-navdiv\">\\n\\t\\t\\t\\t\\t\\t<div class=\"sonnav-bg\">\\n\\t\\t\\t\\t\\t\\t\\t<ul class=\"nav-conul clearfix\">\\n\\t\\t\\t\\t\\t\\t\\t\\t<li><a href=\"/index.php/home/article/index/cid/79.html\" target=\"_blank\">图书馆</a></li><li><a href=\"/index.php/home/article/index/cid/80.html\" target=\"_blank\">档案室</a></li>\\t\\t\\t\\t\\t\\t\\t</ul>\\n\\t\\t\\t\\t\\t\\t</div>\\n\\t\\t\\t\\t\\t</div>\\t\\t\\t\\t</li><li class=\"lin-navli\"><a href=\"/index.php/home/article/index/cid/159.html\"  target=\"_blank\">合作交流</a>\\n\\n\\t\\t\\t\\t\\t<!-- <i f condition=\"!empty($nav[\\'son_list\\']) and $nav[id] !=3 and  $nav[id] !=4 and $nav[id] !=5 and $nav[id] !=89\"> -->\\n\\t\\t\\t\\t\\t<div class=\"lin-navdiv\">\\n\\t\\t\\t\\t\\t\\t<div class=\"sonnav-bg\">\\n\\t\\t\\t\\t\\t\\t\\t<ul class=\"nav-conul clearfix\">\\n\\t\\t\\t\\t\\t\\t\\t\\t<li><a href=\"/index.php/home/article/index/cid/159.html\" target=\"_blank\">国际交流</a></li><li><a href=\"/index.php/home/article/index/cid/161.html\" target=\"_blank\">外事服务</a></li>\\t\\t\\t\\t\\t\\t\\t</ul>\\n\\t\\t\\t\\t\\t\\t</div>\\n\\t\\t\\t\\t\\t</div>\\t\\t\\t\\t</li><li class=\"lin-navli\"><a href=\"/index.php/home/article/index/cid/44.html\"  target=\"_blank\">人才招聘</a>\\n\\n\\t\\t\\t\\t\\t<!-- <i f condition=\"!empty($nav[\\'son_list\\']) and $nav[id] !=3 and  $nav[id] !=4 and $nav[id] !=5 and $nav[id] !=89\"> -->\\n\\t\\t\\t\\t\\t<div class=\"lin-navdiv\">\\n\\t\\t\\t\\t\\t\\t<div class=\"sonnav-bg\">\\n\\t\\t\\t\\t\\t\\t\\t<ul class=\"nav-conul clearfix\">\\n\\t\\t\\t\\t\\t\\t\\t\\t<li><a href=\"/index.php/home/article/index/cid/44.html\" target=\"_blank\">教师系列</a></li><li><a href=\"/index.php/home/article/index/cid/45.html\" target=\"_blank\">管理系列</a></li>\\t\\t\\t\\t\\t\\t\\t</ul>\\n\\t\\t\\t\\t\\t\\t</div>\\n\\t\\t\\t\\t\\t</div>\\t\\t\\t\\t</li><li class=\"lin-navli\"><a href=\"/index.php/home/article/index/cid/32.html\"  target=\"_blank\">走进南方</a>\\n\\n\\t\\t\\t\\t\\t<!-- <i f condition=\"!empty($nav[\\'son_list\\']) and $nav[id] !=3 and  $nav[id] !=4 and $nav[id] !=5 and $nav[id] !=89\"> -->\\n\\t\\t\\t\\t\\t<div class=\"lin-navdiv\">\\n\\t\\t\\t\\t\\t\\t<div class=\"sonnav-bg\">\\n\\t\\t\\t\\t\\t\\t\\t<ul class=\"nav-conul clearfix\">\\n\\t\\t\\t\\t\\t\\t\\t\\t<li><a href=\"/index.php/home/article/index/cid/32.html\" target=\"_blank\">图说南方</a></li><li><a href=\"/index.php/home/article/index/cid/105.html\" target=\"_self\">生活服务</a></li><li><a href=\"/index.php/home/article/index/cid/87.html\" target=\"_self\">医疗服务</a></li><li><a href=\"/index.php/home/article/index/cid/51.html\" target=\"_blank\">校报</a></li><li><a href=\"/index.php/home/article/index/cid/82.html\" target=\"_self\">交通指引</a></li>\\t\\t\\t\\t\\t\\t\\t</ul>\\n\\t\\t\\t\\t\\t\\t</div>\\n\\t\\t\\t\\t\\t</div>\\t\\t\\t\\t</li>\\n\\t\\t\\t</ul>\\n\\t\\t\\t\\n\\t\\t</div>\\n\\t\\t<div class=\"lin-navbg\"></div>\\n\\n\\r\\n<div class=\"lin-content\">\\r\\n\\t\\t\\t<div class=\"lin-neiye clearfix\">\\r\\n\\t\\t\\t\\t\\r\\n\\r\\n\\t\\t\\t    <div class=\"search_list_right\">\\r\\n\\t\\t\\t        <div class=\"fan clearfix\">\\r\\n\\t\\t\\t            <span class=\"fan_title\">站内搜索</span>\\r\\n\\t\\t\\t            <span class=\"fan_right\">您当前位置是：<a href=\"/index.php\">网站首页</a> &gt; <font>站内搜索</font></span>\\r\\n\\t\\t\\t        </div>\\r\\n\\t\\t\\t        <div class=\"ny_content\">\\r\\n\\t\\t\\t\\t\\t\\t<ul class=\"list-ul\">\\r\\n\\t\\t\\t\\t\\t\\t<li><font class=\"right-more\">2019-11-06</font><div class=\"news_title\"><a href=\"/index.php/home/article/search_detail/id/6049.html\" target=\"_blank\" title=\"深化本科教育教学改革 全面提高人才培养质量\">深化本科教育教学改革 全面提高<font color=red>人才培养</font>质量</a></div>\\r\\n\\t\\t\\t\\t\\t\\t\\t</li><li><font class=\"right-more\">2019-10-24</font><div class=\"news_title\"><a href=\"/index.php/home/article/search_detail/id/5971.html\" target=\"_blank\" title=\"人力资源部关于转发广东省教育厅2019年赴俄罗斯专业人才培养计划（第二批）遴选的通知\">人力资源部关于转发广东省教育厅2019年赴俄罗斯专业<font color=red>人才培养</font>计划（第二批）遴选的通知</a></div>\\r\\n\\t\\t\\t\\t\\t\\t\\t</li><li><font class=\"right-more\">2019-10-18</font><div class=\"news_title\"><a href=\"/index.php/home/article/search_detail/id/5912.html\" target=\"_blank\" title=\"创新发展育人才，共筑物流新时代 ——2019-2023广东省本科高校物流管理与工程类专业教学指导委员会成立大会暨粤港澳大湾区物流协同创新与人才培养高峰论坛顺利召开\">创新发展育人才，共筑物流新时代 ——2019-2023广东省本科高校物流管理与工程类专业教学指导委员会成立大会暨粤港澳大湾区物流协同创新与<font color=red>人才培养</font>高峰论坛顺利召开</a></div>\\r\\n\\t\\t\\t\\t\\t\\t\\t</li><li><font class=\"right-more\">2019-05-20</font><div class=\"news_title\"><a href=\"/index.php/home/article/search_detail/id/5462.html\" target=\"_blank\" title=\"我校举行广东金融高薪区“区块链+”金融技术产业和人才培养讲座\">我校举行广东金融高薪区“区块链+”金融技术产业和<font color=red>人才培养</font>讲座</a></div>\\r\\n\\t\\t\\t\\t\\t\\t\\t</li><li><font class=\"right-more\">2019-04-19</font><div class=\"news_title\"><a href=\"/index.php/home/article/search_detail/id/5302.html\" target=\"_blank\" title=\"电气学院召开智能科学与技术新专业人才培养方案修订会\">电气学院召开智能科学与技术新专业<font color=red>人才培养</font>方案修订会</a></div>\\r\\n\\t\\t\\t\\t\\t\\t\\t</li><li><font class=\"right-more\">2019-04-10</font><div class=\"news_title\"><a href=\"/index.php/home/article/search_detail/id/5234.html\" target=\"_blank\" title=\"畅谈转型，相互研讨——商学院应用型转型启动暨 2019年人才培养方案专家评审会顺利进行\">畅谈转型，相互研讨——商学院应用型转型启动暨 2019年<font color=red>人才培养</font>方案专家评审会顺利进行</a></div>\\r\\n\\t\\t\\t\\t\\t\\t\\t</li><li><font class=\"right-more\">2019-04-02</font><div class=\"news_title\"><a href=\"/index.php/home/article/search_detail/id/5205.html\" target=\"_blank\" title=\"深化校企合作，促进人才培养——艺术设计与创意产业系与浩瀚工程设计有限公司签署校企合作协议\">深化校企合作，促进<font color=red>人才培养</font>——艺术设计与创意产业系与浩瀚工程设计有限公司签署校企合作协议</a></div>\\r\\n\\t\\t\\t\\t\\t\\t\\t</li><li><font class=\"right-more\">2019-03-07</font><div class=\"news_title\"><a href=\"/index.php/home/article/search_detail/id/5095.html\" target=\"_blank\" title=\"深化校企合作，促进人才培养——艺术设计与创意产业系与浩瀚工程设计有限公司深入座谈交流\">深化校企合作，促进<font color=red>人才培养</font>——艺术设计与创意产业系与浩瀚工程设计有限公司深入座谈交流</a></div>\\r\\n\\t\\t\\t\\t\\t\\t\\t</li><li><font class=\"right-more\">2018-11-20</font><div class=\"news_title\"><a href=\"/index.php/home/article/search_detail/id/4819.html\" target=\"_blank\" title=\"电气学院教师参加高等学校计算机类专业人才培养高峰论坛\">电气学院教师参加高等学校计算机类专业<font color=red>人才培养</font>高峰论坛</a></div>\\r\\n\\t\\t\\t\\t\\t\\t\\t</li><li><font class=\"right-more\">2018-11-16</font><div class=\"news_title\"><a href=\"/index.php/home/article/search_detail/id/4803.html\" target=\"_blank\" title=\"我校电气与计算机工程学院教师参加“全国高等学校电子信息类专业人才培养高峰论坛”\">我校电气与计算机工程学院教师参加“全国高等学校电子信息类专业<font color=red>人才培养</font>高峰论坛”</a></div>\\r\\n\\t\\t\\t\\t\\t\\t\\t</li><li><font class=\"right-more\">2018-10-17</font><div class=\"news_title\"><a href=\"/index.php/home/article/search_detail/id/4650.html\" target=\"_blank\" title=\"产学研协同育人，校企合作共促人才培养——我校产学研协同育人项目签约仪式顺利举行\">产学研协同育人，校企合作共促<font color=red>人才培养</font>——我校产学研协同育人项目签约仪式顺利举行</a></div>\\r\\n\\t\\t\\t\\t\\t\\t\\t</li><li><font class=\"right-more\">2018-06-11</font><div class=\"news_title\"><a href=\"/index.php/home/article/search_detail/id/4123.html\" target=\"_blank\" title=\"增进校企合作，重视人才培养，完善就业服务 ——我校率队赴深圳市人才集团开展交流走访活动\">增进校企合作，重视<font color=red>人才培养</font>，完善就业服务 ——我校率队赴深圳市人才集团开展交流走访活动</a></div>\\r\\n\\t\\t\\t\\t\\t\\t\\t</li>\\t\\t\\t\\t\\t\\t</ul>\\r\\n\\t\\t\\t\\t\\t\\t<div style=\"clear: both;\"></div>\\r\\n\\t\\t\\t\\t\\t\\t<div class=\"pages\" align=\"center\"><div>  <span class=\"current\">1</span><a class=\"num\" href=\"/index.php/home/article/search/keyword/%E4%BA%BA%E6%89%8D%E5%9F%B9%E5%85%BB/p/2.html\">2</a><a class=\"num\" href=\"/index.php/home/article/search/keyword/%E4%BA%BA%E6%89%8D%E5%9F%B9%E5%85%BB/p/3.html\">3</a> <a class=\"next\" href=\"/index.php/home/article/search/keyword/%E4%BA%BA%E6%89%8D%E5%9F%B9%E5%85%BB/p/2.html\">>></a> </div></div>\\r\\n\\t\\t\\t        </div>\\r\\n\\t\\t\\t    </div>\\r\\n\\t\\t\\t</div>\\r\\n\\t\\t</div>\\r\\n\\t\\t<!-- end 内容区域-->\\r\\n\\r\\n\\t<!--底部-->\\n\\t\\t<div class=\"lin-footer\">\\n\\t\\t\\t<div class=\"lin-fer clearfix\">\\n\\t\\t\\t\\t<div class=\"ferleft\">\\n\\t\\t\\t\\t\\t<ul class=\"fer-ul clearfix\">\\n\\t\\t\\t\\t\\t\\t<li class=\"fer-li\"><a href=\"http://www.moe.gov.cn/\" target=\"_blank\" title=\"教育部\">教育部</a></li><li class=\"fer-li\"><a href=\"http://www.gz.gov.cn/\" target=\"_blank\" title=\"广州市政府\">广州市政府</a></li><li class=\"fer-li\"><a href=\"http://www.cnki.net/\" target=\"_blank\" title=\"中国知网\">中国知网</a></li><li class=\"fer-li\"><a href=\"http://edu.gd.gov.cn\" target=\"_blank\" title=\"广东省教育厅\">广东省教育厅</a></li><li class=\"fer-li\"><a href=\"http://www.gdpr.com/\" target=\"_blank\" title=\"珠江投资\">珠江投资</a></li><li class=\"fer-li\"><a href=\"http://journal.nfu.edu.cn/CN/volumn/home.shtml\" target=\"_blank\" title=\"南方论丛\">南方论丛</a></li><li class=\"fer-li\"><a href=\"http://www.sysu.edu.cn/\" target=\"_blank\" title=\"中山大学 \">中山大学 </a></li><li class=\"fer-li\"><a href=\"http://www.nfu.edu.cn/index.php/home/article/index/cid/136.html\" target=\"_blank\" title=\"珠江教育联盟\">珠江教育联盟</a></li>\\t\\n\\t\\t\\t\\t\\t\\t<li class=\"fer-li\"><a href=\"/index.php/home/article/link.html\">更多>></a></li>\\n\\t\\t\\t\\t\\t</ul>\\n\\t\\t\\t\\t</div>\\n\\t\\t\\t\\t<div class=\"fercen\">\\n\\t\\t\\t\\t\\t<div class=\"fer-er\"><img src=\"/Public/Home/images/erweima1.jpg\"/></div>\\n\\t\\t\\t\\t\\t<div class=\"fer-er\"><img src=\"/Public/Home/images/erweima2.jpg\"/></div>\\n\\t\\t\\t\\t</div>\\n\\t\\t\\t\\t<div class=\"ferright\">\\n\\t\\t\\t\\t\\t<div><p><span>地址：广州市从化区温泉大道882号中山大学南方学院</span><span>邮编：510970</span></p></div>\\n\\t\\t\\t\\t\\t<div class=\"addleft\">\\n\\t\\t\\t\\t\\t\\t<p>联系电话：020-61787326</p>\\n\\t\\t\\t\\t\\t\\t<p>版权所有 ©  中山大学南方学院</p>\\n\\t\\t\\t\\t\\t\\t<p>技术支持：<a href=\"http://www.unsun.net\" target=\"_blank\">碧辉腾乐(UNSUN.NET)</a></p>\\n\\t\\t\\t\\t\\t</div>\\n\\t\\t\\t\\t\\t<div class=\"addright\">\\n\\t\\t\\t\\t\\t\\t<p>招生咨询：020-87912619</p> \\n\\t\\t\\t\\t\\t\\t<p>\\n\\t\\t\\t\\t\\t\\t\\t<span class=\"add-spante\"><a target=\"_blank\" href=\"http://www.beian.miit.gov.cn\">粤ICP备11077779号</a></span> \\n\\t\\t\\t\\t\\t\\t\\t<span class=\"add-spante\">\\n\\t\\t\\t\\t\\t\\t\\t\\t<a href=\"/index.php/admin/index/login.html\" target=\"_blank\" >网站管理</a>&nbsp;&nbsp;\\n\\t\\t\\t\\t\\t\\t\\t\\t<a href=\"http://old.nfu.edu.cn/\" target=\"_blank\" >旧站入口</a>\\n\\t\\t\\t\\t\\t\\t\\t</span>\\n\\t\\t\\t\\t\\t\\t</p>\\n\\t\\t\\t\\t\\t\\n\\t\\t\\t\\t\\t</div>\\n\\t\\t\\t\\t\\t\\n\\t\\t\\t\\t\\t\\n\\t\\t\\t\\t\\t\\n\\t\\t\\t\\t</div>\\n\\t\\t\\t\\t\\n\\t\\t\\t\\t<div align=\"center\">\\n\\t\\t\\t\\t\\t\\t<a target=\"_blank\" href=\"http://www.beian.gov.cn/portal/registerSystemInfo?recordcode=44011702000081\" style=\"display:inline-block;text-decoration:none;height:20px;line-height:20px;\"><img src=\"/Public/Home/images/icp.png\" style=\"float:left;\"/><p style=\"float:left;height:20px;line-height:20px;margin: 0px 0px 0px 5px; color:#ffffff;\">粤公网安备 44011702000081号</p></a>\\n\\t\\t\\t\\t</div>\\n\\t\\t\\t</div>\\n\\t\\t</div>\\n\\t\\t<!-- end 底部-->\\n\\n <script type=\"text/javascript\" language=\"javascript\">\\n \\n    //加入收藏\\n \\n        function AddFavorite(sURL, sTitle) {\\n \\n            sURL = encodeURI(sURL); \\n        try{   \\n \\n            window.external.addFavorite(sURL, sTitle);   \\n \\n        }catch(e) {   \\n \\n            try{   \\n \\n                window.sidebar.addPanel(sTitle, sURL, \"\");   \\n \\n            }catch (e) {   \\n \\n                alert(\"加入收藏失败，请使用Ctrl+D进行添加,或手动在浏览器里进行设置.\");\\n \\n            }   \\n \\n        }\\n \\n    }\\n \\n    //设为首页\\n \\n    function SetHome(url){\\n \\n        if (document.all) {\\n \\n            document.body.style.behavior=\\'url(#default#homepage)\\';\\n \\n               document.body.setHomePage(url);\\n \\n        }else{\\n \\n            alert(\"您好,您的浏览器不支持自动设置页面为首页功能,请您手动在浏览器里设置该页面为首页!\");\\n \\n        }\\n \\n    }\\n \\n</script>\\n\\r\\n\\r\\n</body>\\r\\n</html>'"
      ]
     },
     "execution_count": 2,
     "metadata": {},
     "output_type": "execute_result"
    }
   ],
   "source": [
    "# A1 + A2\n",
    "import pandas as pd\n",
    "from requests_html import HTMLSession\n",
    "\n",
    "\n",
    "payload= {\n",
    "    \"keyword\":\"人才培养\"\n",
    "\n",
    "\n",
    "}\n",
    "session = HTMLSession()\n",
    "# requests模块发送请求有data、params两种携带参数的方法。\n",
    "# params在get请求中使用，data在post请求中使用。params并不是变量，是关键字参数\n",
    "r =session.get(\"http://www.nfu.edu.cn/index.php/home/article/search.html\",params= payload)\n",
    "r.html.html"
   ]
  },
  {
   "cell_type": "code",
   "execution_count": 3,
   "metadata": {},
   "outputs": [],
   "source": [
    "# A3\n",
    "with open(\"中大南方人才培养方案.html\",encoding=\"utf8\",mode=\"w\") as fp:\n",
    "    fp.write(r.html.html)"
   ]
  },
  {
   "cell_type": "code",
   "execution_count": 4,
   "metadata": {},
   "outputs": [],
   "source": [
    "# A4\n",
    "with open(\"中大南方人才培养方案.html\",encoding=\"utf8\",mode=\"r\") as fp:\n",
    "    html_load=fp.read()"
   ]
  },
  {
   "cell_type": "code",
   "execution_count": 5,
   "metadata": {},
   "outputs": [],
   "source": [
    "# A5 解析文本\n",
    "import requests_html\n",
    "parsed = requests_html.soup_parse(html_load)\n",
    "later = requests_html.soup_parse(html_load)"
   ]
  },
  {
   "cell_type": "code",
   "execution_count": 6,
   "metadata": {},
   "outputs": [
    {
     "data": {
      "text/plain": [
       "<Element html at 0x1e525d424f8>"
      ]
     },
     "execution_count": 6,
     "metadata": {},
     "output_type": "execute_result"
    }
   ],
   "source": [
    "later"
   ]
  },
  {
   "cell_type": "code",
   "execution_count": 7,
   "metadata": {},
   "outputs": [
    {
     "data": {
      "text/plain": [
       "[<Element body at 0x1e525d42db8>]"
      ]
     },
     "execution_count": 7,
     "metadata": {},
     "output_type": "execute_result"
    }
   ],
   "source": [
    "later.xpath('body')"
   ]
  },
  {
   "cell_type": "code",
   "execution_count": 8,
   "metadata": {},
   "outputs": [
    {
     "data": {
      "text/plain": [
       "[<Element head at 0x1e525d42c28>]"
      ]
     },
     "execution_count": 8,
     "metadata": {},
     "output_type": "execute_result"
    }
   ],
   "source": [
    "later.xpath('head')"
   ]
  },
  {
   "cell_type": "code",
   "execution_count": 9,
   "metadata": {},
   "outputs": [
    {
     "data": {
      "text/plain": [
       "[<Element a at 0x1e525df6048>,\n",
       " <Element a at 0x1e525df6188>,\n",
       " <Element a at 0x1e525df6138>,\n",
       " <Element a at 0x1e525df61d8>,\n",
       " <Element a at 0x1e525df6228>,\n",
       " <Element a at 0x1e525df6278>,\n",
       " <Element a at 0x1e525df62c8>,\n",
       " <Element a at 0x1e525df6318>,\n",
       " <Element a at 0x1e525df6368>,\n",
       " <Element a at 0x1e525df63b8>,\n",
       " <Element a at 0x1e525df6408>,\n",
       " <Element a at 0x1e525df6458>,\n",
       " <Element a at 0x1e525df64a8>,\n",
       " <Element a at 0x1e525df64f8>,\n",
       " <Element a at 0x1e525df6548>,\n",
       " <Element a at 0x1e525df6598>,\n",
       " <Element a at 0x1e525df65e8>,\n",
       " <Element a at 0x1e525df6638>,\n",
       " <Element a at 0x1e525df6688>,\n",
       " <Element a at 0x1e525df66d8>,\n",
       " <Element a at 0x1e525df6728>,\n",
       " <Element a at 0x1e525df6778>,\n",
       " <Element a at 0x1e525df67c8>,\n",
       " <Element a at 0x1e525df6818>,\n",
       " <Element a at 0x1e525df6868>,\n",
       " <Element a at 0x1e525df68b8>,\n",
       " <Element a at 0x1e525df6908>,\n",
       " <Element a at 0x1e525df6958>,\n",
       " <Element a at 0x1e525df69a8>,\n",
       " <Element a at 0x1e525df69f8>,\n",
       " <Element a at 0x1e525df6a48>,\n",
       " <Element a at 0x1e525df6a98>,\n",
       " <Element a at 0x1e525df6ae8>,\n",
       " <Element a at 0x1e525df6b38>,\n",
       " <Element a at 0x1e525df6b88>,\n",
       " <Element a at 0x1e525df6bd8>,\n",
       " <Element a at 0x1e525df6c28>,\n",
       " <Element a at 0x1e525df6c78>,\n",
       " <Element a at 0x1e525df6cc8>,\n",
       " <Element a at 0x1e525df6d18>,\n",
       " <Element a at 0x1e525df6d68>,\n",
       " <Element a at 0x1e525df6db8>,\n",
       " <Element a at 0x1e525df6e08>,\n",
       " <Element a at 0x1e525df6e58>,\n",
       " <Element a at 0x1e525df6ea8>,\n",
       " <Element a at 0x1e525df6ef8>,\n",
       " <Element a at 0x1e525df6f48>,\n",
       " <Element a at 0x1e525df6f98>,\n",
       " <Element a at 0x1e525dfe048>,\n",
       " <Element a at 0x1e525dfe098>,\n",
       " <Element a at 0x1e525dfe0e8>,\n",
       " <Element a at 0x1e525dfe138>,\n",
       " <Element a at 0x1e525dfe188>,\n",
       " <Element a at 0x1e525dfe1d8>,\n",
       " <Element a at 0x1e525dfe228>,\n",
       " <Element a at 0x1e525dfe278>,\n",
       " <Element a at 0x1e525dfe2c8>,\n",
       " <Element a at 0x1e525dfe318>,\n",
       " <Element a at 0x1e525dfe368>,\n",
       " <Element a at 0x1e525dfe3b8>,\n",
       " <Element a at 0x1e525dfe408>,\n",
       " <Element a at 0x1e525dfe458>,\n",
       " <Element a at 0x1e525dfe4a8>,\n",
       " <Element a at 0x1e525dfe4f8>,\n",
       " <Element a at 0x1e525dfe548>,\n",
       " <Element a at 0x1e525dfe598>,\n",
       " <Element a at 0x1e525dfe5e8>,\n",
       " <Element a at 0x1e525dfe638>,\n",
       " <Element a at 0x1e525dfe688>,\n",
       " <Element a at 0x1e525dfe6d8>,\n",
       " <Element a at 0x1e525dfe728>,\n",
       " <Element a at 0x1e525dfe778>,\n",
       " <Element a at 0x1e525dfe7c8>]"
      ]
     },
     "execution_count": 9,
     "metadata": {},
     "output_type": "execute_result"
    }
   ],
   "source": [
    "later.xpath('//a')"
   ]
  },
  {
   "cell_type": "code",
   "execution_count": 10,
   "metadata": {},
   "outputs": [
    {
     "data": {
      "text/plain": [
       "['深化本科教育教学改革 全面提高人才培养质量',\n",
       " '人力资源部关于转发广东省教育厅2019年赴俄罗斯专业人才培养计划（第二批）遴选的通知',\n",
       " '创新发展育人才，共筑物流新时代 ——2019-2023广东省本科高校物流管理与工程类专业教学指导委员会成立大会暨粤港澳大湾区物流协同创新与人才培养高峰论坛顺利召开',\n",
       " '我校举行广东金融高薪区“区块链+”金融技术产业和人才培养讲座',\n",
       " '电气学院召开智能科学与技术新专业人才培养方案修订会',\n",
       " '畅谈转型，相互研讨——商学院应用型转型启动暨 2019年人才培养方案专家评审会顺利进行',\n",
       " '深化校企合作，促进人才培养——艺术设计与创意产业系与浩瀚工程设计有限公司签署校企合作协议',\n",
       " '深化校企合作，促进人才培养——艺术设计与创意产业系与浩瀚工程设计有限公司深入座谈交流',\n",
       " '电气学院教师参加高等学校计算机类专业人才培养高峰论坛',\n",
       " '我校电气与计算机工程学院教师参加“全国高等学校电子信息类专业人才培养高峰论坛”',\n",
       " '产学研协同育人，校企合作共促人才培养——我校产学研协同育人项目签约仪式顺利举行',\n",
       " '增进校企合作，重视人才培养，完善就业服务 ——我校率队赴深圳市人才集团开展交流走访活动']"
      ]
     },
     "execution_count": 10,
     "metadata": {},
     "output_type": "execute_result"
    }
   ],
   "source": [
    "later.xpath('//div[@class=\"news_title\"]//a/@title')"
   ]
  },
  {
   "cell_type": "code",
   "execution_count": 11,
   "metadata": {},
   "outputs": [
    {
     "name": "stdout",
     "output_type": "stream",
     "text": [
      "这是第 1 页\n",
      "['深化本科教育教学改革 全面提高人才培养质量', '人力资源部关于转发广东省教育厅2019年赴俄罗斯专业人才培养计划（第二批）遴选的通知', '创新发展育人才，共筑物流新时代 ——2019-2023广东省本科高校物流管理与工程类专业教学指导委员会成立大会暨粤港澳大湾区物流协同创新与人才培养高峰论坛顺利召开', '我校举行广东金融高薪区“区块链+”金融技术产业和人才培养讲座', '电气学院召开智能科学与技术新专业人才培养方案修订会', '畅谈转型，相互研讨——商学院应用型转型启动暨 2019年人才培养方案专家评审会顺利进行', '深化校企合作，促进人才培养——艺术设计与创意产业系与浩瀚工程设计有限公司签署校企合作协议', '深化校企合作，促进人才培养——艺术设计与创意产业系与浩瀚工程设计有限公司深入座谈交流', '电气学院教师参加高等学校计算机类专业人才培养高峰论坛', '我校电气与计算机工程学院教师参加“全国高等学校电子信息类专业人才培养高峰论坛”', '产学研协同育人，校企合作共促人才培养——我校产学研协同育人项目签约仪式顺利举行', '增进校企合作，重视人才培养，完善就业服务 ——我校率队赴深圳市人才集团开展交流走访活动']\n",
      "['/index.php/home/article/search_detail/id/6049.html', '/index.php/home/article/search_detail/id/5971.html', '/index.php/home/article/search_detail/id/5912.html', '/index.php/home/article/search_detail/id/5462.html', '/index.php/home/article/search_detail/id/5302.html', '/index.php/home/article/search_detail/id/5234.html', '/index.php/home/article/search_detail/id/5205.html', '/index.php/home/article/search_detail/id/5095.html', '/index.php/home/article/search_detail/id/4819.html', '/index.php/home/article/search_detail/id/4803.html', '/index.php/home/article/search_detail/id/4650.html', '/index.php/home/article/search_detail/id/4123.html']\n",
      "['2019-11-06', '2019-10-24', '2019-10-18', '2019-05-20', '2019-04-19', '2019-04-10', '2019-04-02', '2019-03-07', '2018-11-20', '2018-11-16', '2018-10-17', '2018-06-11']\n",
      "\n",
      "\n",
      "这是第 2 页\n",
      "['深化本科教育教学改革 全面提高人才培养质量', '人力资源部关于转发广东省教育厅2019年赴俄罗斯专业人才培养计划（第二批）遴选的通知', '创新发展育人才，共筑物流新时代 ——2019-2023广东省本科高校物流管理与工程类专业教学指导委员会成立大会暨粤港澳大湾区物流协同创新与人才培养高峰论坛顺利召开', '我校举行广东金融高薪区“区块链+”金融技术产业和人才培养讲座', '电气学院召开智能科学与技术新专业人才培养方案修订会', '畅谈转型，相互研讨——商学院应用型转型启动暨 2019年人才培养方案专家评审会顺利进行', '深化校企合作，促进人才培养——艺术设计与创意产业系与浩瀚工程设计有限公司签署校企合作协议', '深化校企合作，促进人才培养——艺术设计与创意产业系与浩瀚工程设计有限公司深入座谈交流', '电气学院教师参加高等学校计算机类专业人才培养高峰论坛', '我校电气与计算机工程学院教师参加“全国高等学校电子信息类专业人才培养高峰论坛”', '产学研协同育人，校企合作共促人才培养——我校产学研协同育人项目签约仪式顺利举行', '增进校企合作，重视人才培养，完善就业服务 ——我校率队赴深圳市人才集团开展交流走访活动']\n",
      "['/index.php/home/article/search_detail/id/6049.html', '/index.php/home/article/search_detail/id/5971.html', '/index.php/home/article/search_detail/id/5912.html', '/index.php/home/article/search_detail/id/5462.html', '/index.php/home/article/search_detail/id/5302.html', '/index.php/home/article/search_detail/id/5234.html', '/index.php/home/article/search_detail/id/5205.html', '/index.php/home/article/search_detail/id/5095.html', '/index.php/home/article/search_detail/id/4819.html', '/index.php/home/article/search_detail/id/4803.html', '/index.php/home/article/search_detail/id/4650.html', '/index.php/home/article/search_detail/id/4123.html']\n",
      "['2019-11-06', '2019-10-24', '2019-10-18', '2019-05-20', '2019-04-19', '2019-04-10', '2019-04-02', '2019-03-07', '2018-11-20', '2018-11-16', '2018-10-17', '2018-06-11']\n",
      "\n",
      "\n",
      "这是第 3 页\n",
      "['深化本科教育教学改革 全面提高人才培养质量', '人力资源部关于转发广东省教育厅2019年赴俄罗斯专业人才培养计划（第二批）遴选的通知', '创新发展育人才，共筑物流新时代 ——2019-2023广东省本科高校物流管理与工程类专业教学指导委员会成立大会暨粤港澳大湾区物流协同创新与人才培养高峰论坛顺利召开', '我校举行广东金融高薪区“区块链+”金融技术产业和人才培养讲座', '电气学院召开智能科学与技术新专业人才培养方案修订会', '畅谈转型，相互研讨——商学院应用型转型启动暨 2019年人才培养方案专家评审会顺利进行', '深化校企合作，促进人才培养——艺术设计与创意产业系与浩瀚工程设计有限公司签署校企合作协议', '深化校企合作，促进人才培养——艺术设计与创意产业系与浩瀚工程设计有限公司深入座谈交流', '电气学院教师参加高等学校计算机类专业人才培养高峰论坛', '我校电气与计算机工程学院教师参加“全国高等学校电子信息类专业人才培养高峰论坛”', '产学研协同育人，校企合作共促人才培养——我校产学研协同育人项目签约仪式顺利举行', '增进校企合作，重视人才培养，完善就业服务 ——我校率队赴深圳市人才集团开展交流走访活动']\n",
      "['/index.php/home/article/search_detail/id/6049.html', '/index.php/home/article/search_detail/id/5971.html', '/index.php/home/article/search_detail/id/5912.html', '/index.php/home/article/search_detail/id/5462.html', '/index.php/home/article/search_detail/id/5302.html', '/index.php/home/article/search_detail/id/5234.html', '/index.php/home/article/search_detail/id/5205.html', '/index.php/home/article/search_detail/id/5095.html', '/index.php/home/article/search_detail/id/4819.html', '/index.php/home/article/search_detail/id/4803.html', '/index.php/home/article/search_detail/id/4650.html', '/index.php/home/article/search_detail/id/4123.html']\n",
      "['2019-11-06', '2019-10-24', '2019-10-18', '2019-05-20', '2019-04-19', '2019-04-10', '2019-04-02', '2019-03-07', '2018-11-20', '2018-11-16', '2018-10-17', '2018-06-11']\n",
      "\n",
      "\n"
     ]
    }
   ],
   "source": [
    "# A6 直接使用 requests-html\n",
    "import pandas as pd\n",
    "from requests_html import HTMLSession\n",
    "\n",
    "session = HTMLSession()\n",
    "for i in range(1,4):\n",
    "    payload= {\n",
    "    \"keyword\":\"人才培养\",\n",
    "    \"p\":\"str(i)\"\n",
    "}\n",
    "    \n",
    "# requests模块发送请求有data、params两种携带参数的方法。\n",
    "# params在get请求中使用，data在post请求中使用。params并不是变量，是关键字参数\n",
    "    r =session.get(\"http://www.nfu.edu.cn/index.php/home/article/search.html\",params= payload)\n",
    "\n",
    "    with open(\"人才培养方案.html\",encoding=\"utf8\",mode=\"w\") as fp:\n",
    "        fp.write(r.html.html)\n",
    "        \n",
    "    print('这是第',i,'页'),\n",
    "    print (r.html.xpath('//*[@class=\"news_title\"]/a/@title')),\n",
    "    print (r.html.xpath('//*[@class=\"news_title\"]/a/@href')),\n",
    "    print (r.html.xpath('//font[@class=\"right-more\"]/text()')),\n",
    "    print('\\n')"
   ]
  },
  {
   "cell_type": "code",
   "execution_count": 12,
   "metadata": {},
   "outputs": [
    {
     "data": {
      "text/html": [
       "<div>\n",
       "<style scoped>\n",
       "    .dataframe tbody tr th:only-of-type {\n",
       "        vertical-align: middle;\n",
       "    }\n",
       "\n",
       "    .dataframe tbody tr th {\n",
       "        vertical-align: top;\n",
       "    }\n",
       "\n",
       "    .dataframe thead th {\n",
       "        text-align: right;\n",
       "    }\n",
       "</style>\n",
       "<table border=\"1\" class=\"dataframe\">\n",
       "  <thead>\n",
       "    <tr style=\"text-align: right;\">\n",
       "      <th></th>\n",
       "      <th>标题</th>\n",
       "      <th>链结</th>\n",
       "      <th>日期</th>\n",
       "    </tr>\n",
       "  </thead>\n",
       "  <tbody>\n",
       "    <tr>\n",
       "      <th>0</th>\n",
       "      <td>深化本科教育教学改革 全面提高人才培养质量</td>\n",
       "      <td>/index.php/home/article/search_detail/id/6049....</td>\n",
       "      <td>2019-11-06</td>\n",
       "    </tr>\n",
       "    <tr>\n",
       "      <th>1</th>\n",
       "      <td>人力资源部关于转发广东省教育厅2019年赴俄罗斯专业人才培养计划（第二批）遴选的通知</td>\n",
       "      <td>/index.php/home/article/search_detail/id/5971....</td>\n",
       "      <td>2019-10-24</td>\n",
       "    </tr>\n",
       "    <tr>\n",
       "      <th>2</th>\n",
       "      <td>创新发展育人才，共筑物流新时代 ——2019-2023广东省本科高校物流管理与工程类专业教学...</td>\n",
       "      <td>/index.php/home/article/search_detail/id/5912....</td>\n",
       "      <td>2019-10-18</td>\n",
       "    </tr>\n",
       "    <tr>\n",
       "      <th>3</th>\n",
       "      <td>我校举行广东金融高薪区“区块链+”金融技术产业和人才培养讲座</td>\n",
       "      <td>/index.php/home/article/search_detail/id/5462....</td>\n",
       "      <td>2019-05-20</td>\n",
       "    </tr>\n",
       "    <tr>\n",
       "      <th>4</th>\n",
       "      <td>电气学院召开智能科学与技术新专业人才培养方案修订会</td>\n",
       "      <td>/index.php/home/article/search_detail/id/5302....</td>\n",
       "      <td>2019-04-19</td>\n",
       "    </tr>\n",
       "    <tr>\n",
       "      <th>5</th>\n",
       "      <td>畅谈转型，相互研讨——商学院应用型转型启动暨 2019年人才培养方案专家评审会顺利进行</td>\n",
       "      <td>/index.php/home/article/search_detail/id/5234....</td>\n",
       "      <td>2019-04-10</td>\n",
       "    </tr>\n",
       "    <tr>\n",
       "      <th>6</th>\n",
       "      <td>深化校企合作，促进人才培养——艺术设计与创意产业系与浩瀚工程设计有限公司签署校企合作协议</td>\n",
       "      <td>/index.php/home/article/search_detail/id/5205....</td>\n",
       "      <td>2019-04-02</td>\n",
       "    </tr>\n",
       "    <tr>\n",
       "      <th>7</th>\n",
       "      <td>深化校企合作，促进人才培养——艺术设计与创意产业系与浩瀚工程设计有限公司深入座谈交流</td>\n",
       "      <td>/index.php/home/article/search_detail/id/5095....</td>\n",
       "      <td>2019-03-07</td>\n",
       "    </tr>\n",
       "    <tr>\n",
       "      <th>8</th>\n",
       "      <td>电气学院教师参加高等学校计算机类专业人才培养高峰论坛</td>\n",
       "      <td>/index.php/home/article/search_detail/id/4819....</td>\n",
       "      <td>2018-11-20</td>\n",
       "    </tr>\n",
       "    <tr>\n",
       "      <th>9</th>\n",
       "      <td>我校电气与计算机工程学院教师参加“全国高等学校电子信息类专业人才培养高峰论坛”</td>\n",
       "      <td>/index.php/home/article/search_detail/id/4803....</td>\n",
       "      <td>2018-11-16</td>\n",
       "    </tr>\n",
       "    <tr>\n",
       "      <th>10</th>\n",
       "      <td>产学研协同育人，校企合作共促人才培养——我校产学研协同育人项目签约仪式顺利举行</td>\n",
       "      <td>/index.php/home/article/search_detail/id/4650....</td>\n",
       "      <td>2018-10-17</td>\n",
       "    </tr>\n",
       "    <tr>\n",
       "      <th>11</th>\n",
       "      <td>增进校企合作，重视人才培养，完善就业服务 ——我校率队赴深圳市人才集团开展交流走访活动</td>\n",
       "      <td>/index.php/home/article/search_detail/id/4123....</td>\n",
       "      <td>2018-06-11</td>\n",
       "    </tr>\n",
       "  </tbody>\n",
       "</table>\n",
       "</div>"
      ],
      "text/plain": [
       "                                                   标题  \\\n",
       "0                               深化本科教育教学改革 全面提高人才培养质量   \n",
       "1          人力资源部关于转发广东省教育厅2019年赴俄罗斯专业人才培养计划（第二批）遴选的通知   \n",
       "2   创新发展育人才，共筑物流新时代 ——2019-2023广东省本科高校物流管理与工程类专业教学...   \n",
       "3                      我校举行广东金融高薪区“区块链+”金融技术产业和人才培养讲座   \n",
       "4                           电气学院召开智能科学与技术新专业人才培养方案修订会   \n",
       "5         畅谈转型，相互研讨——商学院应用型转型启动暨 2019年人才培养方案专家评审会顺利进行   \n",
       "6        深化校企合作，促进人才培养——艺术设计与创意产业系与浩瀚工程设计有限公司签署校企合作协议   \n",
       "7          深化校企合作，促进人才培养——艺术设计与创意产业系与浩瀚工程设计有限公司深入座谈交流   \n",
       "8                          电气学院教师参加高等学校计算机类专业人才培养高峰论坛   \n",
       "9             我校电气与计算机工程学院教师参加“全国高等学校电子信息类专业人才培养高峰论坛”   \n",
       "10            产学研协同育人，校企合作共促人才培养——我校产学研协同育人项目签约仪式顺利举行   \n",
       "11        增进校企合作，重视人才培养，完善就业服务 ——我校率队赴深圳市人才集团开展交流走访活动   \n",
       "\n",
       "                                                   链结          日期  \n",
       "0   /index.php/home/article/search_detail/id/6049....  2019-11-06  \n",
       "1   /index.php/home/article/search_detail/id/5971....  2019-10-24  \n",
       "2   /index.php/home/article/search_detail/id/5912....  2019-10-18  \n",
       "3   /index.php/home/article/search_detail/id/5462....  2019-05-20  \n",
       "4   /index.php/home/article/search_detail/id/5302....  2019-04-19  \n",
       "5   /index.php/home/article/search_detail/id/5234....  2019-04-10  \n",
       "6   /index.php/home/article/search_detail/id/5205....  2019-04-02  \n",
       "7   /index.php/home/article/search_detail/id/5095....  2019-03-07  \n",
       "8   /index.php/home/article/search_detail/id/4819....  2018-11-20  \n",
       "9   /index.php/home/article/search_detail/id/4803....  2018-11-16  \n",
       "10  /index.php/home/article/search_detail/id/4650....  2018-10-17  \n",
       "11  /index.php/home/article/search_detail/id/4123....  2018-06-11  "
      ]
     },
     "execution_count": 12,
     "metadata": {},
     "output_type": "execute_result"
    }
   ],
   "source": [
    "df = pd.DataFrame( {\n",
    "         \"标题\": r.html.xpath('//div[@class=\"news_title\"]/a/@title'),\n",
    "         \"链结\": r.html.xpath('//div[@class=\"news_title\"]/a/@href'),\n",
    "         \"日期\": r.html.xpath('//font[@class=\"right-more\"]/text()'),\n",
    "     } )\n",
    "df"
   ]
  },
  {
   "cell_type": "code",
   "execution_count": 13,
   "metadata": {},
   "outputs": [],
   "source": [
    "df.to_excel(\"人才培养方案.xlsx\", sheet_name=\"搜查结果\")"
   ]
  },
  {
   "cell_type": "code",
   "execution_count": 14,
   "metadata": {},
   "outputs": [
    {
     "data": {
      "text/plain": [
       "['深化本科教育教学改革 全面提高人才培养质量',\n",
       " '人力资源部关于转发广东省教育厅2019年赴俄罗斯专业人才培养计划（第二批）遴选的通知',\n",
       " '创新发展育人才，共筑物流新时代 ——2019-2023广东省本科高校物流管理与工程类专业教学指导委员会成立大会暨粤港澳大湾区物流协同创新与人才培养高峰论坛顺利召开',\n",
       " '我校举行广东金融高薪区“区块链+”金融技术产业和人才培养讲座',\n",
       " '电气学院召开智能科学与技术新专业人才培养方案修订会',\n",
       " '畅谈转型，相互研讨——商学院应用型转型启动暨 2019年人才培养方案专家评审会顺利进行',\n",
       " '深化校企合作，促进人才培养——艺术设计与创意产业系与浩瀚工程设计有限公司签署校企合作协议',\n",
       " '深化校企合作，促进人才培养——艺术设计与创意产业系与浩瀚工程设计有限公司深入座谈交流',\n",
       " '电气学院教师参加高等学校计算机类专业人才培养高峰论坛',\n",
       " '我校电气与计算机工程学院教师参加“全国高等学校电子信息类专业人才培养高峰论坛”',\n",
       " '产学研协同育人，校企合作共促人才培养——我校产学研协同育人项目签约仪式顺利举行',\n",
       " '增进校企合作，重视人才培养，完善就业服务 ——我校率队赴深圳市人才集团开展交流走访活动']"
      ]
     },
     "execution_count": 14,
     "metadata": {},
     "output_type": "execute_result"
    }
   ],
   "source": [
    "# B1 解析后，单独取值各个元素\n",
    "later.xpath('//div[@class=\"news_title\"]/a/@title') #元素a下的title"
   ]
  },
  {
   "cell_type": "code",
   "execution_count": 15,
   "metadata": {},
   "outputs": [
    {
     "data": {
      "text/plain": [
       "['深化本科教育教学改革 全面提高',\n",
       " '质量',\n",
       " '人力资源部关于转发广东省教育厅2019年赴俄罗斯专业',\n",
       " '计划（第二批）遴选的通知',\n",
       " '创新发展育人才，共筑物流新时代 ——2019-2023广东省本科高校物流管理与工程类专业教学指导委员会成立大会暨粤港澳大湾区物流协同创新与',\n",
       " '高峰论坛顺利召开',\n",
       " '我校举行广东金融高薪区“区块链+”金融技术产业和',\n",
       " '讲座',\n",
       " '电气学院召开智能科学与技术新专业',\n",
       " '方案修订会',\n",
       " '畅谈转型，相互研讨——商学院应用型转型启动暨 2019年',\n",
       " '方案专家评审会顺利进行',\n",
       " '深化校企合作，促进',\n",
       " '——艺术设计与创意产业系与浩瀚工程设计有限公司签署校企合作协议',\n",
       " '深化校企合作，促进',\n",
       " '——艺术设计与创意产业系与浩瀚工程设计有限公司深入座谈交流',\n",
       " '电气学院教师参加高等学校计算机类专业',\n",
       " '高峰论坛',\n",
       " '我校电气与计算机工程学院教师参加“全国高等学校电子信息类专业',\n",
       " '高峰论坛”',\n",
       " '产学研协同育人，校企合作共促',\n",
       " '——我校产学研协同育人项目签约仪式顺利举行',\n",
       " '增进校企合作，重视',\n",
       " '，完善就业服务 ——我校率队赴深圳市人才集团开展交流走访活动']"
      ]
     },
     "execution_count": 15,
     "metadata": {},
     "output_type": "execute_result"
    }
   ],
   "source": [
    "# B-2\n",
    "later.xpath('//div[@class=\"news_title\"]/a/text()') # 元素a下的text"
   ]
  },
  {
   "cell_type": "code",
   "execution_count": 16,
   "metadata": {},
   "outputs": [
    {
     "data": {
      "text/plain": [
       "[<Element 'a' href='/index.php' target='_blank' title='中山大学南方学院'>,\n",
       " <Element 'a' href='http://oa.nfu.edu.cn/' target='_blank'>,\n",
       " <Element 'a' href='http://en.nfu.edu.cn/'>,\n",
       " <Element 'a' href='javascript:;' id='search_btn'>,\n",
       " <Element 'a' href='/index.php'>,\n",
       " <Element 'a' href='/index.php/home/article/index/cid/29.html' target='_blank'>,\n",
       " <Element 'a' href='/index.php/home/article/index/cid/29.html' target='_self'>,\n",
       " <Element 'a' href='/index.php/home/article/index/cid/30.html' target='_blank'>,\n",
       " <Element 'a' href='/index.php/home/article/index/cid/135.html' target='_self'>,\n",
       " <Element 'a' href='/index.php/home/article/index/cid/34.html' target='_blank'>,\n",
       " <Element 'a' href='/index.php/home/article/index/cid/104.html' target='_self'>,\n",
       " <Element 'a' href='/index.php/home/article/index/cid/2.html' target='_self'>,\n",
       " <Element 'a' href='/index.php/home/article/index/cid/61.html' target='_blank'>,\n",
       " <Element 'a' href='/index.php/home/article/index/cid/61.html' target='_self'>,\n",
       " <Element 'a' href='/index.php/home/article/index/cid/36.html' target='_self'>,\n",
       " <Element 'a' href='/index.php/home/article/index/cid/165.html' target='_self'>,\n",
       " <Element 'a' href='/index.php/home/article/index/cid/31.html' target='_blank'>,\n",
       " <Element 'a' href='/index.php/home/article/index/cid/31.html' target='_blank'>,\n",
       " <Element 'a' href='/index.php/home/article/index/cid/163.html' target='_self'>,\n",
       " <Element 'a' href='/index.php/home/article/index/cid/164.html' target='_self'>,\n",
       " <Element 'a' href='/index.php/home/article/index/cid/106.html' target='_blank'>,\n",
       " <Element 'a' href='/index.php/home/article/index/cid/106.html' target='_blank'>,\n",
       " <Element 'a' href='/index.php/home/article/index/cid/127.html' target='_blank'>,\n",
       " <Element 'a' href='/index.php/home/article/index/cid/107.html' target='_blank'>,\n",
       " <Element 'a' href='/index.php/home/article/index/cid/49.html' target='_blank'>,\n",
       " <Element 'a' href='/index.php/home/article/index/cid/49.html' target='_blank'>,\n",
       " <Element 'a' href='/index.php/home/article/index/cid/129.html' target='_self'>,\n",
       " <Element 'a' href='/index.php/home/article/index/cid/50.html' target='_blank'>,\n",
       " <Element 'a' href='/index.php/home/article/index/cid/79.html' target='_blank'>,\n",
       " <Element 'a' href='/index.php/home/article/index/cid/79.html' target='_blank'>,\n",
       " <Element 'a' href='/index.php/home/article/index/cid/80.html' target='_blank'>,\n",
       " <Element 'a' href='/index.php/home/article/index/cid/159.html' target='_blank'>,\n",
       " <Element 'a' href='/index.php/home/article/index/cid/159.html' target='_blank'>,\n",
       " <Element 'a' href='/index.php/home/article/index/cid/161.html' target='_blank'>,\n",
       " <Element 'a' href='/index.php/home/article/index/cid/44.html' target='_blank'>,\n",
       " <Element 'a' href='/index.php/home/article/index/cid/44.html' target='_blank'>,\n",
       " <Element 'a' href='/index.php/home/article/index/cid/45.html' target='_blank'>,\n",
       " <Element 'a' href='/index.php/home/article/index/cid/32.html' target='_blank'>,\n",
       " <Element 'a' href='/index.php/home/article/index/cid/32.html' target='_blank'>,\n",
       " <Element 'a' href='/index.php/home/article/index/cid/105.html' target='_self'>,\n",
       " <Element 'a' href='/index.php/home/article/index/cid/87.html' target='_self'>,\n",
       " <Element 'a' href='/index.php/home/article/index/cid/51.html' target='_blank'>,\n",
       " <Element 'a' href='/index.php/home/article/index/cid/82.html' target='_self'>,\n",
       " <Element 'a' href='/index.php'>,\n",
       " <Element 'a' href='/index.php/home/article/search_detail/id/6049.html' target='_blank' title='深化本科教育教学改革 全面提高人才培养质量'>,\n",
       " <Element 'a' href='/index.php/home/article/search_detail/id/5971.html' target='_blank' title='人力资源部关于转发广东省教育厅2019年赴俄罗斯专业人才培养计划（第二批）遴选的通知'>,\n",
       " <Element 'a' href='/index.php/home/article/search_detail/id/5912.html' target='_blank' title='创新发展育人才，共筑物流新时代 ——2019-2023广东省本科高校物流管理与工程类专业教学指导委员会成立大会暨粤港澳大湾区物流协同创新与人才培养高峰论坛顺利召开'>,\n",
       " <Element 'a' href='/index.php/home/article/search_detail/id/5462.html' target='_blank' title='我校举行广东金融高薪区“区块链+”金融技术产业和人才培养讲座'>,\n",
       " <Element 'a' href='/index.php/home/article/search_detail/id/5302.html' target='_blank' title='电气学院召开智能科学与技术新专业人才培养方案修订会'>,\n",
       " <Element 'a' href='/index.php/home/article/search_detail/id/5234.html' target='_blank' title='畅谈转型，相互研讨——商学院应用型转型启动暨 2019年人才培养方案专家评审会顺利进行'>,\n",
       " <Element 'a' href='/index.php/home/article/search_detail/id/5205.html' target='_blank' title='深化校企合作，促进人才培养——艺术设计与创意产业系与浩瀚工程设计有限公司签署校企合作协议'>,\n",
       " <Element 'a' href='/index.php/home/article/search_detail/id/5095.html' target='_blank' title='深化校企合作，促进人才培养——艺术设计与创意产业系与浩瀚工程设计有限公司深入座谈交流'>,\n",
       " <Element 'a' href='/index.php/home/article/search_detail/id/4819.html' target='_blank' title='电气学院教师参加高等学校计算机类专业人才培养高峰论坛'>,\n",
       " <Element 'a' href='/index.php/home/article/search_detail/id/4803.html' target='_blank' title='我校电气与计算机工程学院教师参加“全国高等学校电子信息类专业人才培养高峰论坛”'>,\n",
       " <Element 'a' href='/index.php/home/article/search_detail/id/4650.html' target='_blank' title='产学研协同育人，校企合作共促人才培养——我校产学研协同育人项目签约仪式顺利举行'>,\n",
       " <Element 'a' href='/index.php/home/article/search_detail/id/4123.html' target='_blank' title='增进校企合作，重视人才培养，完善就业服务 ——我校率队赴深圳市人才集团开展交流走访活动'>,\n",
       " <Element 'a' class=('num',) href='/index.php/home/article/search/keyword/%E4%BA%BA%E6%89%8D%E5%9F%B9%E5%85%BB/p/2.html'>,\n",
       " <Element 'a' class=('num',) href='/index.php/home/article/search/keyword/%E4%BA%BA%E6%89%8D%E5%9F%B9%E5%85%BB/p/3.html'>,\n",
       " <Element 'a' class=('next',) href='/index.php/home/article/search/keyword/%E4%BA%BA%E6%89%8D%E5%9F%B9%E5%85%BB/p/2.html'>,\n",
       " <Element 'a' href='http://www.moe.gov.cn/' target='_blank' title='教育部'>,\n",
       " <Element 'a' href='http://www.gz.gov.cn/' target='_blank' title='广州市政府'>,\n",
       " <Element 'a' href='http://www.cnki.net/' target='_blank' title='中国知网'>,\n",
       " <Element 'a' href='http://edu.gd.gov.cn' target='_blank' title='广东省教育厅'>,\n",
       " <Element 'a' href='http://www.gdpr.com/' target='_blank' title='珠江投资'>,\n",
       " <Element 'a' href='http://journal.nfu.edu.cn/CN/volumn/home.shtml' target='_blank' title='南方论丛'>,\n",
       " <Element 'a' href='http://www.sysu.edu.cn/' target='_blank' title='中山大学 '>,\n",
       " <Element 'a' href='http://www.nfu.edu.cn/index.php/home/article/index/cid/136.html' target='_blank' title='珠江教育联盟'>,\n",
       " <Element 'a' href='/index.php/home/article/link.html'>,\n",
       " <Element 'a' href='http://www.unsun.net' target='_blank'>,\n",
       " <Element 'a' href='http://www.beian.miit.gov.cn' target='_blank'>,\n",
       " <Element 'a' href='/index.php/admin/index/login.html' target='_blank'>,\n",
       " <Element 'a' href='http://old.nfu.edu.cn/' target='_blank'>,\n",
       " <Element 'a' href='http://www.beian.gov.cn/portal/registerSystemInfo?recordcode=44011702000081' style='display:inline-block;text-decoration:none;height:20px;line-height:20px;' target='_blank'>]"
      ]
     },
     "execution_count": 16,
     "metadata": {},
     "output_type": "execute_result"
    }
   ],
   "source": [
    "# B-3\n",
    "r.html.xpath('//a')  # 爬取所有a标签下的元素"
   ]
  },
  {
   "cell_type": "code",
   "execution_count": 17,
   "metadata": {},
   "outputs": [
    {
     "data": {
      "text/plain": [
       "['中山大学南方学院',\n",
       " '深化本科教育教学改革 全面提高人才培养质量',\n",
       " '人力资源部关于转发广东省教育厅2019年赴俄罗斯专业人才培养计划（第二批）遴选的通知',\n",
       " '创新发展育人才，共筑物流新时代 ——2019-2023广东省本科高校物流管理与工程类专业教学指导委员会成立大会暨粤港澳大湾区物流协同创新与人才培养高峰论坛顺利召开',\n",
       " '我校举行广东金融高薪区“区块链+”金融技术产业和人才培养讲座',\n",
       " '电气学院召开智能科学与技术新专业人才培养方案修订会',\n",
       " '畅谈转型，相互研讨——商学院应用型转型启动暨 2019年人才培养方案专家评审会顺利进行',\n",
       " '深化校企合作，促进人才培养——艺术设计与创意产业系与浩瀚工程设计有限公司签署校企合作协议',\n",
       " '深化校企合作，促进人才培养——艺术设计与创意产业系与浩瀚工程设计有限公司深入座谈交流',\n",
       " '电气学院教师参加高等学校计算机类专业人才培养高峰论坛',\n",
       " '我校电气与计算机工程学院教师参加“全国高等学校电子信息类专业人才培养高峰论坛”',\n",
       " '产学研协同育人，校企合作共促人才培养——我校产学研协同育人项目签约仪式顺利举行',\n",
       " '增进校企合作，重视人才培养，完善就业服务 ——我校率队赴深圳市人才集团开展交流走访活动',\n",
       " '教育部',\n",
       " '广州市政府',\n",
       " '中国知网',\n",
       " '广东省教育厅',\n",
       " '珠江投资',\n",
       " '南方论丛',\n",
       " '中山大学 ',\n",
       " '珠江教育联盟']"
      ]
     },
     "execution_count": 17,
     "metadata": {},
     "output_type": "execute_result"
    }
   ],
   "source": [
    "# B-4 只爬取有特定属性title下的内容\n",
    "later.xpath('//a/@title')  # less greedy 有点挑 <a> 元素标签\n"
   ]
  },
  {
   "cell_type": "code",
   "execution_count": 18,
   "metadata": {},
   "outputs": [
    {
     "data": {
      "text/plain": [
       "['中山大学南方学院',\n",
       " '深化本科教育教学改革 全面提高人才培养质量',\n",
       " '人力资源部关于转发广东省教育厅2019年赴俄罗斯专业人才培养计划（第二批）遴选的通知',\n",
       " '创新发展育人才，共筑物流新时代 ——2019-2023广东省本科高校物流管理与工程类专业教学指导委员会成立大会暨粤港澳大湾区物流协同创新与人才培养高峰论坛顺利召开',\n",
       " '我校举行广东金融高薪区“区块链+”金融技术产业和人才培养讲座',\n",
       " '电气学院召开智能科学与技术新专业人才培养方案修订会',\n",
       " '畅谈转型，相互研讨——商学院应用型转型启动暨 2019年人才培养方案专家评审会顺利进行',\n",
       " '深化校企合作，促进人才培养——艺术设计与创意产业系与浩瀚工程设计有限公司签署校企合作协议',\n",
       " '深化校企合作，促进人才培养——艺术设计与创意产业系与浩瀚工程设计有限公司深入座谈交流',\n",
       " '电气学院教师参加高等学校计算机类专业人才培养高峰论坛',\n",
       " '我校电气与计算机工程学院教师参加“全国高等学校电子信息类专业人才培养高峰论坛”',\n",
       " '产学研协同育人，校企合作共促人才培养——我校产学研协同育人项目签约仪式顺利举行',\n",
       " '增进校企合作，重视人才培养，完善就业服务 ——我校率队赴深圳市人才集团开展交流走访活动',\n",
       " '教育部',\n",
       " '广州市政府',\n",
       " '中国知网',\n",
       " '广东省教育厅',\n",
       " '珠江投资',\n",
       " '南方论丛',\n",
       " '中山大学 ',\n",
       " '珠江教育联盟']"
      ]
     },
     "execution_count": 18,
     "metadata": {},
     "output_type": "execute_result"
    }
   ],
   "source": [
    "# B-B-3 使用 xpath  \n",
    "# greedy 不挑元素/标签  只挑有特定属性title的所有元素\n",
    "r.html.xpath('//*/@title')  "
   ]
  },
  {
   "cell_type": "code",
   "execution_count": 19,
   "metadata": {},
   "outputs": [
    {
     "data": {
      "text/plain": [
       "['深化本科教育教学改革 全面提高人才培养质量',\n",
       " '人力资源部关于转发广东省教育厅2019年赴俄罗斯专业人才培养计划（第二批）遴选的通知',\n",
       " '创新发展育人才，共筑物流新时代 ——2019-2023广东省本科高校物流管理与工程类专业教学指导委员会成立大会暨粤港澳大湾区物流协同创新与人才培养高峰论坛顺利召开',\n",
       " '我校举行广东金融高薪区“区块链+”金融技术产业和人才培养讲座',\n",
       " '电气学院召开智能科学与技术新专业人才培养方案修订会',\n",
       " '畅谈转型，相互研讨——商学院应用型转型启动暨 2019年人才培养方案专家评审会顺利进行',\n",
       " '深化校企合作，促进人才培养——艺术设计与创意产业系与浩瀚工程设计有限公司签署校企合作协议',\n",
       " '深化校企合作，促进人才培养——艺术设计与创意产业系与浩瀚工程设计有限公司深入座谈交流',\n",
       " '电气学院教师参加高等学校计算机类专业人才培养高峰论坛',\n",
       " '我校电气与计算机工程学院教师参加“全国高等学校电子信息类专业人才培养高峰论坛”',\n",
       " '产学研协同育人，校企合作共促人才培养——我校产学研协同育人项目签约仪式顺利举行',\n",
       " '增进校企合作，重视人才培养，完善就业服务 ——我校率队赴深圳市人才集团开展交流走访活动']"
      ]
     },
     "execution_count": 19,
     "metadata": {},
     "output_type": "execute_result"
    }
   ],
   "source": [
    "# 最精准xpath\n",
    "r.html.xpath('//div[@class=\"news_title\"]/a/@title')"
   ]
  },
  {
   "cell_type": "code",
   "execution_count": 20,
   "metadata": {},
   "outputs": [
    {
     "name": "stdout",
     "output_type": "stream",
     "text": [
      "['深化本科教育教学改革 全面提高人才培养质量', '人力资源部关于转发广东省教育厅2019年赴俄罗斯专业人才培养计划（第二批）遴选的通知', '创新发展育人才，共筑物流新时代 ——2019-2023广东省本科高校物流管理与工程类专业教学指导委员会成立大会暨粤港澳大湾区物流协同创新与人才培养高峰论坛顺利召开', '我校举行广东金融高薪区“区块链+”金融技术产业和人才培养讲座', '电气学院召开智能科学与技术新专业人才培养方案修订会', '畅谈转型，相互研讨——商学院应用型转型启动暨 2019年人才培养方案专家评审会顺利进行', '深化校企合作，促进人才培养——艺术设计与创意产业系与浩瀚工程设计有限公司签署校企合作协议', '深化校企合作，促进人才培养——艺术设计与创意产业系与浩瀚工程设计有限公司深入座谈交流', '电气学院教师参加高等学校计算机类专业人才培养高峰论坛', '我校电气与计算机工程学院教师参加“全国高等学校电子信息类专业人才培养高峰论坛”', '产学研协同育人，校企合作共促人才培养——我校产学研协同育人项目签约仪式顺利举行', '增进校企合作，重视人才培养，完善就业服务 ——我校率队赴深圳市人才集团开展交流走访活动']\n"
     ]
    }
   ],
   "source": [
    "# C-1\n",
    "print (r.html.xpath('//div[@class=\"news_title\"]/a/@title'))  #用python方法直接print"
   ]
  },
  {
   "cell_type": "code",
   "execution_count": 21,
   "metadata": {},
   "outputs": [
    {
     "name": "stdout",
     "output_type": "stream",
     "text": [
      "['/index.php/home/article/search_detail/id/6049.html', '/index.php/home/article/search_detail/id/5971.html', '/index.php/home/article/search_detail/id/5912.html', '/index.php/home/article/search_detail/id/5462.html', '/index.php/home/article/search_detail/id/5302.html', '/index.php/home/article/search_detail/id/5234.html', '/index.php/home/article/search_detail/id/5205.html', '/index.php/home/article/search_detail/id/5095.html', '/index.php/home/article/search_detail/id/4819.html', '/index.php/home/article/search_detail/id/4803.html', '/index.php/home/article/search_detail/id/4650.html', '/index.php/home/article/search_detail/id/4123.html']\n"
     ]
    }
   ],
   "source": [
    "#C-2\n",
    "print (r.html.xpath('//div[@class=\"news_title\"]/a/@href'))"
   ]
  },
  {
   "cell_type": "code",
   "execution_count": 22,
   "metadata": {},
   "outputs": [
    {
     "name": "stdout",
     "output_type": "stream",
     "text": [
      "['2019-11-06', '2019-10-24', '2019-10-18', '2019-05-20', '2019-04-19', '2019-04-10', '2019-04-02', '2019-03-07', '2018-11-20', '2018-11-16', '2018-10-17', '2018-06-11']\n"
     ]
    }
   ],
   "source": [
    "# C-3\n",
    "print (r.html.xpath('//font[@class=\"right-more\"]/text()'))"
   ]
  },
  {
   "cell_type": "code",
   "execution_count": 23,
   "metadata": {},
   "outputs": [
    {
     "name": "stdout",
     "output_type": "stream",
     "text": [
      "['2019-11-06', '2019-10-24', '2019-10-18', '2019-05-20', '2019-04-19', '2019-04-10', '2019-04-02', '2019-03-07', '2018-11-20', '2018-11-16', '2018-10-17', '2018-06-11']\n"
     ]
    }
   ],
   "source": [
    "#C-4\n",
    "print (r.html.xpath('//div[@class=\"news_title\"]/preceding-sibling::font/text()'))"
   ]
  },
  {
   "cell_type": "code",
   "execution_count": null,
   "metadata": {},
   "outputs": [],
   "source": []
  }
 ],
 "metadata": {
  "kernelspec": {
   "display_name": "Python 3",
   "language": "python",
   "name": "python3"
  },
  "language_info": {
   "codemirror_mode": {
    "name": "ipython",
    "version": 3
   },
   "file_extension": ".py",
   "mimetype": "text/x-python",
   "name": "python",
   "nbconvert_exporter": "python",
   "pygments_lexer": "ipython3",
   "version": "3.7.3"
  }
 },
 "nbformat": 4,
 "nbformat_minor": 2
}
